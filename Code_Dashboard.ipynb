{
 "cells": [
  {
   "cell_type": "code",
   "execution_count": 27,
   "metadata": {},
   "outputs": [
    {
     "name": "stdout",
     "output_type": "stream",
     "text": [
      "Starting the dashboard. You can access it at http://127.0.0.1:8050/\n"
     ]
    },
    {
     "data": {
      "text/html": [
       "\n",
       "        <iframe\n",
       "            width=\"100%\"\n",
       "            height=\"650\"\n",
       "            src=\"http://127.0.0.1:8050/\"\n",
       "            frameborder=\"0\"\n",
       "            allowfullscreen\n",
       "            \n",
       "        ></iframe>\n",
       "        "
      ],
      "text/plain": [
       "<IPython.lib.display.IFrame at 0x19598a81cd0>"
      ]
     },
     "metadata": {},
     "output_type": "display_data"
    }
   ],
   "source": [
    "import dash\n",
    "from dash import dcc, html, Input, Output\n",
    "import pandas as pd\n",
    "import plotly.express as px\n",
    "\n",
    "# Function to read data from CSV\n",
    "def load_data_from_csv(file_path):\n",
    "    df = pd.read_csv(file_path, sep=',', header=0)\n",
    "    df.columns = ['timestamp', 'value']\n",
    "    df['timestamp'] = pd.to_datetime(df['timestamp'])\n",
    "    return df\n",
    "\n",
    "# Load actual data from CSV\n",
    "data = load_data_from_csv('/Users/Dell/Downloads/rate_log.csv')\n",
    "\n",
    "daily_report = {\n",
    "    \"Open\": round(data[\"value\"].iloc[0], 4),\n",
    "    \"Close\": round(data[\"value\"].iloc[-1], 4),\n",
    "    \"High\": round(data[\"value\"].max(), 4),\n",
    "    \"Low\": round(data[\"value\"].min(), 4),\n",
    "    \"Volatility\": round(data[\"value\"].std(), 4),\n",
    "}\n",
    "\n",
    "# Dash app setup\n",
    "app = dash.Dash(__name__)\n",
    "\n",
    "app.layout = html.Div([\n",
    "    html.H1(\"EUR/USD Exchange Rate Dashboard\", style={\"textAlign\": \"center\"}),\n",
    "\n",
    "    # Live Rate Display\n",
    "    html.Div([\n",
    "        html.H2(\"Current Exchange Rate\", style={\"textAlign\": \"center\"}),\n",
    "        html.Div(id=\"live-rate\", style={\"fontSize\": \"2rem\", \"textAlign\": \"center\"}),\n",
    "    ], style={\"marginBottom\": \"20px\"}),\n",
    "\n",
    "    # Graph Section\n",
    "    html.Div([\n",
    "        dcc.Graph(id=\"rate-graph\"),\n",
    "    ]),\n",
    "\n",
    "    # Daily Report Section\n",
    "    html.Div([\n",
    "        html.H3(\"Daily Report\", style={\"textAlign\": \"center\"}),\n",
    "        html.Table([\n",
    "            html.Tr([html.Th(\"Metric\"), html.Th(\"Value\")]),\n",
    "            html.Tr([html.Td(\"Open\"), html.Td(daily_report[\"Open\"])]),\n",
    "            html.Tr([html.Td(\"Close\"), html.Td(daily_report[\"Close\"])]),\n",
    "            html.Tr([html.Td(\"High\"), html.Td(daily_report[\"High\"])]),\n",
    "            html.Tr([html.Td(\"Low\"), html.Td(daily_report[\"Low\"])]),\n",
    "            html.Tr([html.Td(\"Volatility\"), html.Td(daily_report[\"Volatility\"])]),\n",
    "        ], style={\"margin\": \"0 auto\", \"width\": \"50%\", \"border\": \"1px solid black\"}),\n",
    "    ]),\n",
    "\n",
    "    # Refresh Data Button\n",
    "    html.Div([\n",
    "        html.Button(\"Refresh Data\", id=\"refresh-button\", n_clicks=0, style={\"margin\": \"20px auto\", \"display\": \"block\"}),\n",
    "    ]),\n",
    "])\n",
    "\n",
    "@app.callback(\n",
    "    [Output(\"live-rate\", \"children\"), Output(\"rate-graph\", \"figure\")],\n",
    "    [Input(\"refresh-button\", \"n_clicks\")]\n",
    ")\n",
    "def update_dashboard(n_clicks):\n",
    "    # Reload data from CSV\n",
    "    updated_data = load_data_from_csv('/Users/Dell/Downloads/rate_log.csv')\n",
    "\n",
    "    # Current rate display\n",
    "    current_rate = f\"{updated_data['value'].iloc[-1]:.4f} USD\"\n",
    "\n",
    "    # Time series graph\n",
    "    fig = px.line(updated_data, x=\"timestamp\", y=\"value\", title=\"EUR/USD Exchange Rate Over Time\")\n",
    "    fig.update_layout(xaxis_title=\"Time\", yaxis_title=\"Exchange Rate (USD)\")\n",
    "\n",
    "    return current_rate, fig\n",
    "\n",
    "if __name__ == \"__main__\":\n",
    "    print(\"Starting the dashboard. You can access it at http://127.0.0.1:8050/\")\n",
    "    app.run_server(debug=True)\n"
   ]
  },
  {
   "cell_type": "code",
   "execution_count": null,
   "metadata": {},
   "outputs": [],
   "source": []
  }
 ],
 "metadata": {
  "kernelspec": {
   "display_name": "Python 3",
   "language": "python",
   "name": "python3"
  },
  "language_info": {
   "codemirror_mode": {
    "name": "ipython",
    "version": 3
   },
   "file_extension": ".py",
   "mimetype": "text/x-python",
   "name": "python",
   "nbconvert_exporter": "python",
   "pygments_lexer": "ipython3",
   "version": "3.11.9"
  }
 },
 "nbformat": 4,
 "nbformat_minor": 2
}
